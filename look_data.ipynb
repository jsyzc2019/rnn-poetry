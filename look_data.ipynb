{
 "cells": [
  {
   "cell_type": "code",
   "execution_count": 1,
   "metadata": {},
   "outputs": [],
   "source": [
    "# coding = utf-8"
   ]
  },
  {
   "cell_type": "code",
   "execution_count": 23,
   "metadata": {},
   "outputs": [],
   "source": [
    "import numpy as np\n",
    "from torch import Tensor"
   ]
  },
  {
   "cell_type": "code",
   "execution_count": 3,
   "metadata": {},
   "outputs": [],
   "source": [
    "datas = np.load('tang.npz')"
   ]
  },
  {
   "cell_type": "code",
   "execution_count": 4,
   "metadata": {},
   "outputs": [
    {
     "data": {
      "text/plain": [
       "numpy.lib.npyio.NpzFile"
      ]
     },
     "execution_count": 4,
     "metadata": {},
     "output_type": "execute_result"
    }
   ],
   "source": [
    "type(datas)"
   ]
  },
  {
   "cell_type": "code",
   "execution_count": 5,
   "metadata": {},
   "outputs": [],
   "source": [
    "data = datas['data']"
   ]
  },
  {
   "cell_type": "code",
   "execution_count": 6,
   "metadata": {},
   "outputs": [
    {
     "data": {
      "text/plain": [
       "array([[8292, 8292, 8292, 8292, 8292, 8292, 8292, 8292, 8292, 8292, 8292,\n",
       "        8292, 8292, 8292, 8292, 8292, 8292, 8292, 8292, 8292, 8292, 8292,\n",
       "        8292, 8292, 8292, 8292, 8292, 8292, 8292, 8292, 8292, 8292, 8292,\n",
       "        8292, 8292, 8292, 8292, 8292, 8292, 8292, 8292, 8292, 8292, 8292,\n",
       "        8292, 8292, 8292, 8292, 8292, 8292, 8292, 8292, 8292, 8292, 8292,\n",
       "        8292, 8292, 8292, 8292, 8292, 8292, 8292, 8292, 8292, 8292, 8292,\n",
       "        8292, 8292, 8292, 8292, 8292, 8292, 8292, 8292, 8292, 8291, 6731,\n",
       "        4770, 1787, 8118, 7577, 7066, 4817,  648, 7121, 1542, 6483, 7435,\n",
       "        7686, 2889, 1671, 5862, 1949, 7066, 2596, 4785, 3629, 1379, 2703,\n",
       "        7435, 6064, 6041, 4666, 4038, 4881, 7066, 4747, 1534,   70, 3788,\n",
       "        3823, 7435, 4907, 5567,  201, 2834, 1519, 7066,  782,  782, 2063,\n",
       "        2031,  846, 7435, 8290],\n",
       "       [8292, 8292, 8292, 8292, 8292, 8292, 8292, 8292, 8292, 8292, 8292,\n",
       "        8292, 8292, 8292, 8292, 8292, 8292, 8292, 8292, 8292, 8292, 8292,\n",
       "        8292, 8292, 8292, 8292, 8292, 8292, 8292, 8292, 8292, 8292, 8292,\n",
       "        8292, 8292, 8292, 8292, 8292, 8292, 8291, 2309, 2596, 6483, 2260,\n",
       "        7316, 7066, 6332, 5274, 2125, 5029, 7792, 7435, 4186, 8087, 7047,\n",
       "        6622, 6933, 7066, 6134, 3564, 3766, 6920, 6157, 7435, 7086, 4770,\n",
       "        5849, 4776, 4981, 7066, 4857, 2649, 3020,  332, 1727, 7435, 7458,\n",
       "        7294, 3465, 5149, 1671, 7066, 2834, 6000, 3942, 3534, 1534, 7435,\n",
       "        4102, 7460,  758, 3961, 3374, 7066, 7904, 6811, 4449, 2121, 6802,\n",
       "        7435, 6182,   27, 7912, 1756, 7440, 7066,  201, 7909, 8118,  201,\n",
       "        4662, 7435, 7824, 1508, 3154,  152, 5862, 7066, 7976, 6043,  258,\n",
       "          47, 7878, 7435, 8290]], dtype=int32)"
      ]
     },
     "execution_count": 6,
     "metadata": {},
     "output_type": "execute_result"
    }
   ],
   "source": [
    "data[:2]"
   ]
  },
  {
   "cell_type": "code",
   "execution_count": 7,
   "metadata": {},
   "outputs": [
    {
     "data": {
      "text/plain": [
       "['ix2word', 'word2ix', 'data']"
      ]
     },
     "execution_count": 7,
     "metadata": {},
     "output_type": "execute_result"
    }
   ],
   "source": [
    "datas.keys()"
   ]
  },
  {
   "cell_type": "code",
   "execution_count": 8,
   "metadata": {},
   "outputs": [],
   "source": [
    "word2ix = datas['word2ix']"
   ]
  },
  {
   "cell_type": "code",
   "execution_count": 9,
   "metadata": {},
   "outputs": [
    {
     "data": {
      "text/plain": [
       "numpy.ndarray"
      ]
     },
     "execution_count": 9,
     "metadata": {},
     "output_type": "execute_result"
    }
   ],
   "source": [
    "type(word2ix)  # 他把整个word2ix map 作为一个对象压入ndarray，不能用[0]用['key']也不行"
   ]
  },
  {
   "cell_type": "code",
   "execution_count": 10,
   "metadata": {},
   "outputs": [],
   "source": [
    "word2ix = word2ix.item()  # 这样才可以"
   ]
  },
  {
   "cell_type": "code",
   "execution_count": 11,
   "metadata": {},
   "outputs": [
    {
     "data": {
      "text/plain": [
       "8291"
      ]
     },
     "execution_count": 11,
     "metadata": {},
     "output_type": "execute_result"
    }
   ],
   "source": [
    "word2ix['<START>']"
   ]
  },
  {
   "cell_type": "code",
   "execution_count": 24,
   "metadata": {},
   "outputs": [
    {
     "data": {
      "text/plain": [
       "tensor([[ 8291]])"
      ]
     },
     "execution_count": 24,
     "metadata": {},
     "output_type": "execute_result"
    }
   ],
   "source": [
    "Tensor([word2ix['<START>']]).view(1, 1).long()"
   ]
  },
  {
   "cell_type": "code",
   "execution_count": 12,
   "metadata": {},
   "outputs": [],
   "source": [
    "ix2word = datas['ix2word'].item()"
   ]
  },
  {
   "cell_type": "code",
   "execution_count": 13,
   "metadata": {},
   "outputs": [
    {
     "data": {
      "text/plain": [
       "'憁'"
      ]
     },
     "execution_count": 13,
     "metadata": {},
     "output_type": "execute_result"
    }
   ],
   "source": [
    "ix2word[0]"
   ]
  },
  {
   "cell_type": "markdown",
   "metadata": {},
   "source": [
    "下面来看一首诗"
   ]
  },
  {
   "cell_type": "code",
   "execution_count": 14,
   "metadata": {},
   "outputs": [],
   "source": [
    "data = datas['data']"
   ]
  },
  {
   "cell_type": "code",
   "execution_count": 15,
   "metadata": {},
   "outputs": [
    {
     "data": {
      "text/plain": [
       "array([8292, 8292, 8292, 8292, 8292, 8292, 8292, 8292, 8292, 8292, 8292,\n",
       "       8292, 8292, 8292, 8292, 8292, 8292, 8292, 8292, 8292, 8292, 8292,\n",
       "       8292, 8292, 8292, 8292, 8292, 8292, 8292, 8292, 8292, 8292, 8292,\n",
       "       8292, 8292, 8292, 8292, 8292, 8292, 8292, 8292, 8292, 8292, 8292,\n",
       "       8292, 8292, 8292, 8292, 8292, 8292, 8292, 8292, 8292, 8292, 8292,\n",
       "       8292, 8292, 8292, 8292, 8292, 8292, 8292, 8292, 8292, 8292, 8292,\n",
       "       8292, 8292, 8292, 8292, 8292, 8292, 8292, 8292, 8292, 8291, 6731,\n",
       "       4770, 1787, 8118, 7577, 7066, 4817,  648, 7121, 1542, 6483, 7435,\n",
       "       7686, 2889, 1671, 5862, 1949, 7066, 2596, 4785, 3629, 1379, 2703,\n",
       "       7435, 6064, 6041, 4666, 4038, 4881, 7066, 4747, 1534,   70, 3788,\n",
       "       3823, 7435, 4907, 5567,  201, 2834, 1519, 7066,  782,  782, 2063,\n",
       "       2031,  846, 7435, 8290], dtype=int32)"
      ]
     },
     "execution_count": 15,
     "metadata": {},
     "output_type": "execute_result"
    }
   ],
   "source": [
    "data[0]"
   ]
  },
  {
   "cell_type": "code",
   "execution_count": 16,
   "metadata": {},
   "outputs": [],
   "source": [
    "poetry_ix = data[123]"
   ]
  },
  {
   "cell_type": "code",
   "execution_count": 17,
   "metadata": {},
   "outputs": [],
   "source": [
    "poetry = [ix2word[i] for i in poetry_ix]"
   ]
  },
  {
   "cell_type": "code",
   "execution_count": 18,
   "metadata": {},
   "outputs": [],
   "source": [
    "poetry = ''.join(poetry)"
   ]
  },
  {
   "cell_type": "code",
   "execution_count": 19,
   "metadata": {},
   "outputs": [
    {
     "data": {
      "text/plain": [
       "'</s></s></s></s></s></s></s></s></s></s></s></s></s></s></s></s></s></s></s></s></s></s></s></s></s></s></s></s></s></s></s></s></s></s></s></s></s></s></s><START>少年一相见，飞辔河洛间。欢游不知罢，中路忽言还。泠泠鹍絃哀，悄悄冬夜闲。丈夫虽耿介，远別多苦颜。君行拜高堂，速驾难久攀。鸡鸣俦侣发，朔雪满河关。须臾在今夕，罇酌且循环。<EOP>'"
      ]
     },
     "execution_count": 19,
     "metadata": {},
     "output_type": "execute_result"
    }
   ],
   "source": [
    "poetry"
   ]
  },
  {
   "cell_type": "markdown",
   "metadata": {},
   "source": [
    "查看size，一共有57,580首诗，每首诗最大长度是125；一共8293个字符。"
   ]
  },
  {
   "cell_type": "code",
   "execution_count": 20,
   "metadata": {},
   "outputs": [
    {
     "data": {
      "text/plain": [
       "(57580, 125)"
      ]
     },
     "execution_count": 20,
     "metadata": {},
     "output_type": "execute_result"
    }
   ],
   "source": [
    "data.shape"
   ]
  },
  {
   "cell_type": "code",
   "execution_count": 21,
   "metadata": {},
   "outputs": [
    {
     "data": {
      "text/plain": [
       "8293"
      ]
     },
     "execution_count": 21,
     "metadata": {},
     "output_type": "execute_result"
    }
   ],
   "source": [
    "len(ix2word)"
   ]
  },
  {
   "cell_type": "code",
   "execution_count": 22,
   "metadata": {},
   "outputs": [
    {
     "data": {
      "text/plain": [
       "8293"
      ]
     },
     "execution_count": 22,
     "metadata": {},
     "output_type": "execute_result"
    }
   ],
   "source": [
    "len(word2ix)"
   ]
  }
 ],
 "metadata": {
  "kernelspec": {
   "display_name": "Python 3",
   "language": "python",
   "name": "python3"
  },
  "language_info": {
   "codemirror_mode": {
    "name": "ipython",
    "version": 3
   },
   "file_extension": ".py",
   "mimetype": "text/x-python",
   "name": "python",
   "nbconvert_exporter": "python",
   "pygments_lexer": "ipython3",
   "version": "3.6.5"
  }
 },
 "nbformat": 4,
 "nbformat_minor": 2
}
