{
 "cells": [
  {
   "cell_type": "markdown",
   "metadata": {},
   "source": [
    "核心代码：model"
   ]
  },
  {
   "cell_type": "code",
   "execution_count": 1,
   "metadata": {},
   "outputs": [],
   "source": [
    "# coding = utf-8"
   ]
  },
  {
   "cell_type": "code",
   "execution_count": 2,
   "metadata": {},
   "outputs": [],
   "source": [
    "import torch as t\n",
    "import torch.nn as nn\n",
    "from torch.autograd import Variable\n",
    "import torch.nn.functional as F"
   ]
  },
  {
   "cell_type": "markdown",
   "metadata": {},
   "source": [
    "其实这个model很简单，一个LSTM，一个hidden layer，一个Linear，就三层，比那些CNN什么的简单多了"
   ]
  },
  {
   "cell_type": "code",
   "execution_count": 3,
   "metadata": {},
   "outputs": [],
   "source": [
    "class PoetryModel(nn.Module):\n",
    "    def __init__(self, vocab_size, embedding_dim, hidden_dim):\n",
    "        super(PoetryModel, self).__init__()\n",
    "        # hidden_dim 在后面还会用到，所以先存起来\n",
    "        self.hidden_dim = hidden_dim\n",
    "        \n",
    "        self.embeddings = nn.Embedding(vocab_size, embedding_dim)\n",
    "        # LSTM初始化参数：\n",
    "        # input_size：x的特征维度；\n",
    "        # hidden_size：隐藏层的特征维度；\n",
    "        # num_layers：lstm隐层的层数，默认为1\n",
    "        self.lstm = nn.LSTM(input_size=embedding_dim, hidden_size=hidden_dim, num_layers=2)\n",
    "        self.linear1 = nn.Linear(hidden_dim, vocab_size)\n",
    "    \n",
    "    \n",
    "    def forward(self, input, hidden=None):\n",
    "        # input放进来前，已经行列互换了，为了并行计算的需要\n",
    "        seq_len, batch_size = input.size()\n",
    "        if hidden is None:\n",
    "            #  h_0 = 0.01*torch.Tensor(2, batch_size, self.hidden_dim).normal_().cuda()\n",
    "            #  c_0 = 0.01*torch.Tensor(2, batch_size, self.hidden_dim).normal_().cuda()\n",
    "            h_0 = input.data.new(2, batch_size, self.hidden_dim).fill_(0).float()\n",
    "            c_0 = input.data.new(2, batch_size, self.hidden_dim).fill_(0).float()\n",
    "            h_0, c_0 = Variable(h_0), Variable(c_0)\n",
    "        else:\n",
    "            h_0, c_0 = hidden\n",
    "        # size: (seq_len,batch_size,embeding_dim)\n",
    "        embeds = self.embeddings(input)\n",
    "        # output size: (seq_len,batch_size,hidden_dim)\n",
    "        output, hidden = self.lstm(embeds, (h_0, c_0))\n",
    "\n",
    "        # size: (seq_len*batch_size,vocab_size)\n",
    "        # 比如说一次训练128个句子，每个句子长度125，那这一批就会预测128 * 125个词\n",
    "        # 把output压平，每行是一个vector，进行Linear\n",
    "        output = self.linear1(output.view(seq_len * batch_size, -1))\n",
    "        # 得到的output的size就是：seq_len * batch_size行，每行有vocab_size列\n",
    "        return output, hidden"
   ]
  },
  {
   "cell_type": "markdown",
   "metadata": {},
   "source": [
    "试着调用一下"
   ]
  },
  {
   "cell_type": "code",
   "execution_count": 4,
   "metadata": {},
   "outputs": [],
   "source": [
    "from data import get_data\n",
    "from config import Config"
   ]
  },
  {
   "cell_type": "code",
   "execution_count": 5,
   "metadata": {},
   "outputs": [],
   "source": [
    "# 构造输入\n",
    "data, word2ix, ix2word = get_data(Config())"
   ]
  },
  {
   "cell_type": "code",
   "execution_count": 6,
   "metadata": {},
   "outputs": [],
   "source": [
    "data = t.from_numpy(data).long()"
   ]
  },
  {
   "cell_type": "code",
   "execution_count": 7,
   "metadata": {},
   "outputs": [
    {
     "data": {
      "text/plain": [
       "torch.Tensor"
      ]
     },
     "execution_count": 7,
     "metadata": {},
     "output_type": "execute_result"
    }
   ],
   "source": [
    "type(data)"
   ]
  },
  {
   "cell_type": "code",
   "execution_count": 8,
   "metadata": {},
   "outputs": [],
   "source": [
    "model = PoetryModel(len(word2ix), 128, 256)"
   ]
  },
  {
   "cell_type": "code",
   "execution_count": 9,
   "metadata": {},
   "outputs": [],
   "source": [
    "output, _ = model(data[:2, :])"
   ]
  },
  {
   "cell_type": "code",
   "execution_count": 10,
   "metadata": {},
   "outputs": [
    {
     "data": {
      "text/plain": [
       "torch.Size([250, 8293])"
      ]
     },
     "execution_count": 10,
     "metadata": {},
     "output_type": "execute_result"
    }
   ],
   "source": [
    "output.size()"
   ]
  },
  {
   "cell_type": "code",
   "execution_count": null,
   "metadata": {},
   "outputs": [],
   "source": []
  }
 ],
 "metadata": {
  "kernelspec": {
   "display_name": "Python 3",
   "language": "python",
   "name": "python3"
  },
  "language_info": {
   "codemirror_mode": {
    "name": "ipython",
    "version": 3
   },
   "file_extension": ".py",
   "mimetype": "text/x-python",
   "name": "python",
   "nbconvert_exporter": "python",
   "pygments_lexer": "ipython3",
   "version": "3.6.5"
  }
 },
 "nbformat": 4,
 "nbformat_minor": 2
}
